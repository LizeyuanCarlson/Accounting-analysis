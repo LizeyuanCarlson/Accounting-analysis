{
 "cells": [
  {
   "cell_type": "markdown",
   "metadata": {
    "deletable": true,
    "editable": true
   },
   "source": [
    "# Part 1 Benford’s Law: Simulation "
   ]
  },
  {
   "cell_type": "markdown",
   "metadata": {
    "deletable": true,
    "editable": true
   },
   "source": [
    "The purpose of the code of this part is to test whether the number simulated from different distributions follow the Benford's Law"
   ]
  },
  {
   "cell_type": "code",
   "execution_count": 120,
   "metadata": {
    "collapsed": true,
    "deletable": true,
    "editable": true
   },
   "outputs": [],
   "source": [
    "import numpy as np\n",
    "from pandas import Series, DataFrame\n",
    "import pandas as pd\n",
    "from scipy.stats import chisquare"
   ]
  },
  {
   "cell_type": "code",
   "execution_count": 55,
   "metadata": {
    "collapsed": true,
    "deletable": true,
    "editable": true
   },
   "outputs": [],
   "source": [
    "import numpy as np\n",
    "from pandas import Series, DataFrame\n",
    "import pandas as pd\n",
    "from scipy.stats import chisquare"
   ]
  },
  {
   "cell_type": "code",
   "execution_count": 56,
   "metadata": {
    "collapsed": false,
    "deletable": true,
    "editable": true
   },
   "outputs": [
    {
     "data": {
      "text/html": [
       "<script>\n",
       "code_show=true; \n",
       "function code_toggle() {\n",
       "  if (code_show) {\n",
       "    $('div.input').each(function(id) {\n",
       "      el = $(this).find('.cm-variable:first');\n",
       "      if (id == 0 || el.text() == 'hide_me') {\n",
       "        $(this).hide();\n",
       "      }\n",
       "    });\n",
       "    $('div.output_prompt').css('opacity', 0);\n",
       "  } else {\n",
       "    $('div.input').each(function(id) {\n",
       "      $(this).show();\n",
       "    });\n",
       "    $('div.output_prompt').css('opacity', 1);\n",
       "  }\n",
       "  code_show = !code_show\n",
       "} \n",
       "$( document ).ready(code_toggle);\n",
       "</script>\n",
       "<form action=\"javascript:code_toggle()\"><input style=\"opacity:0\" type=\"submit\" value=\"Click here to toggle on/off the raw code.\"></form>"
      ],
      "text/plain": [
       "<IPython.core.display.HTML object>"
      ]
     },
     "execution_count": 56,
     "metadata": {},
     "output_type": "execute_result"
    }
   ],
   "source": [
    "from IPython.display import HTML\n",
    "\n",
    "hide_me = ''\n",
    "HTML('''<script>\n",
    "code_show=true; \n",
    "function code_toggle() {\n",
    "  if (code_show) {\n",
    "    $('div.input').each(function(id) {\n",
    "      el = $(this).find('.cm-variable:first');\n",
    "      if (id == 0 || el.text() == 'hide_me') {\n",
    "        $(this).hide();\n",
    "      }\n",
    "    });\n",
    "    $('div.output_prompt').css('opacity', 0);\n",
    "  } else {\n",
    "    $('div.input').each(function(id) {\n",
    "      $(this).show();\n",
    "    });\n",
    "    $('div.output_prompt').css('opacity', 1);\n",
    "  }\n",
    "  code_show = !code_show\n",
    "} \n",
    "$( document ).ready(code_toggle);\n",
    "</script>\n",
    "<form action=\"javascript:code_toggle()\"><input style=\"opacity:0\" type=\"submit\" value=\"Click here to toggle on/off the raw code.\"></form>''')"
   ]
  },
  {
   "cell_type": "code",
   "execution_count": 57,
   "metadata": {
    "collapsed": true,
    "deletable": true,
    "editable": true
   },
   "outputs": [],
   "source": [
    "np.random.seed(5171991)"
   ]
  },
  {
   "cell_type": "code",
   "execution_count": 58,
   "metadata": {
    "collapsed": true,
    "deletable": true,
    "editable": true
   },
   "outputs": [],
   "source": [
    "#Generate 1000 numbers from uniform distribution with min 0 max 1\n",
    "x = abs(np.random.uniform(0,1,1000))"
   ]
  },
  {
   "cell_type": "code",
   "execution_count": 59,
   "metadata": {
    "collapsed": true,
    "deletable": true,
    "editable": true
   },
   "outputs": [],
   "source": [
    "#Generate 1000 numbers from normal distribution with mean equals to 1 and std equals to 1\n",
    "y= abs(np.random.normal(1, 1, 1000))"
   ]
  },
  {
   "cell_type": "code",
   "execution_count": 60,
   "metadata": {
    "collapsed": true,
    "deletable": true,
    "editable": true
   },
   "outputs": [],
   "source": [
    "#Generate 1000 numbers from normal distribution with mean equals to 0 and std equals to 1\n",
    "z=abs(np.random.normal(0, 1, 1000))"
   ]
  },
  {
   "cell_type": "code",
   "execution_count": 61,
   "metadata": {
    "collapsed": true,
    "deletable": true,
    "editable": true
   },
   "outputs": [],
   "source": [
    "index=range(0,1000)\n",
    "df=pd.DataFrame(data=x,index=index,columns=['X'])\n",
    "df['Y']=y\n",
    "df['Z']=z\n",
    "df['XYZ']=df['X']*df['Y']*df['Z']\n",
    "df['XYZ_round']=df['XYZ'].round(1)"
   ]
  },
  {
   "cell_type": "code",
   "execution_count": 62,
   "metadata": {
    "collapsed": true,
    "deletable": true,
    "editable": true
   },
   "outputs": [],
   "source": [
    "# Get the first digit of all the numbers generated\n",
    "df['X']=df['X']*100000\n",
    "df['Y']=df['Y']*100000\n",
    "df['Z']=df['Z']*100000\n",
    "df['XYZ']=df['XYZ']*100000\n",
    "df['XYZ_round']=df['XYZ_round']*10000\n",
    "\n",
    "df['X']=df['X'].astype(str)\n",
    "df['Y']=df['Y'].astype(str)\n",
    "df['Z']=df['Z'].astype(str)\n",
    "df['XYZ']=df['XYZ'].astype(str)\n",
    "df['XYZ_round']=df['XYZ_round'].astype(str)\n",
    "\n",
    "df['X_first']=df['X'].str[0]\n",
    "df['Y_first']=df['Y'].str[0]\n",
    "df['Z_first']=df['Z'].str[0]\n",
    "df['XYZ_first']=df['XYZ'].str[0]\n",
    "df['XYZ_first_round']=df['XYZ_round'].str[0]"
   ]
  },
  {
   "cell_type": "code",
   "execution_count": 63,
   "metadata": {
    "collapsed": true,
    "deletable": true,
    "editable": true
   },
   "outputs": [],
   "source": [
    "# Get the count of first digit of all the numbers generated\n",
    "X_counts=df['X_first'].value_counts().sort_index()\n",
    "Y_counts=df['Y_first'].value_counts().sort_index()\n",
    "Z_counts=df['Z_first'].value_counts().sort_index()\n",
    "XYZ_counts=df['XYZ_first'].value_counts().sort_index()\n",
    "XYZ_round_counts=df['XYZ_first_round'].value_counts().sort_index()\n",
    "XYZ_round_counts=XYZ_round_counts[1:]"
   ]
  },
  {
   "cell_type": "code",
   "execution_count": 64,
   "metadata": {
    "collapsed": true,
    "deletable": true,
    "editable": true
   },
   "outputs": [],
   "source": [
    "#Get the proportion of each digit\n",
    "X_per=X_counts/float(sum(X_counts))\n",
    "Y_per=Y_counts/float(sum(Y_counts))\n",
    "Z_per=Z_counts/float(sum(Z_counts))\n",
    "XYZ_per=XYZ_counts/float(sum(XYZ_counts))\n",
    "XYZ_round_per=XYZ_round_counts/float(sum(XYZ_round_counts))"
   ]
  },
  {
   "cell_type": "code",
   "execution_count": 65,
   "metadata": {
    "collapsed": true,
    "deletable": true,
    "editable": true
   },
   "outputs": [],
   "source": [
    "# Benchmark for Benford's Law, '0.301' means the proportion of 1 should be 0.301 if the distribution follows \n",
    "# the Benford's Law\n",
    "Benchmark=[0.301,0.176,0.125,0.097,0.079,0.067,0.058,0.051,0.046]"
   ]
  },
  {
   "cell_type": "code",
   "execution_count": 66,
   "metadata": {
    "collapsed": true,
    "deletable": true,
    "editable": true
   },
   "outputs": [],
   "source": [
    "# Get the KS value for each distribution, the KS value is to test whether the distribution follows the Benford's Law\n",
    "ks_x_list=list()\n",
    "ks_y_list=list()\n",
    "ks_z_list=list()\n",
    "ks_xyz_list=list()\n",
    "ks_xyz_round_list=list()\n",
    "\n",
    "for i in range(9):\n",
    "    a=X_per[0:i+1].sum()-sum(Benchmark[0:i+1])\n",
    "    ks_x_list.append(abs(a))\n",
    "    b=Y_per[0:i+1].sum()-sum(Benchmark[0:i+1])\n",
    "    ks_y_list.append(abs(b))\n",
    "    c=Z_per[0:i+1].sum()-sum(Benchmark[0:i+1])\n",
    "    ks_z_list.append(abs(c))\n",
    "    d=XYZ_per[0:i+1].sum()-sum(Benchmark[0:i+1])\n",
    "    ks_xyz_list.append(abs(d))\n",
    "    e=XYZ_round_per[0:i+1].sum()-sum(Benchmark[0:i+1])\n",
    "    ks_xyz_round_list.append(abs(e))\n",
    "    \n",
    "ks_x=max(ks_x_list)\n",
    "ks_y=max(ks_y_list)\n",
    "ks_z=max(ks_z_list)\n",
    "ks_xyz=max(ks_xyz_list)\n",
    "ks_xyz_round=max(ks_xyz_round_list)"
   ]
  },
  {
   "cell_type": "code",
   "execution_count": 67,
   "metadata": {
    "collapsed": false,
    "deletable": true,
    "editable": true
   },
   "outputs": [
    {
     "data": {
      "text/plain": [
       "0.043006976178289961"
      ]
     },
     "execution_count": 67,
     "metadata": {},
     "output_type": "execute_result"
    }
   ],
   "source": [
    "# The benchmark for one distribution follows the Benford's Law\n",
    "KS_benchmark=1.36/np.sqrt(1000)\n",
    "KS_benchmark"
   ]
  },
  {
   "cell_type": "code",
   "execution_count": 68,
   "metadata": {
    "collapsed": false,
    "deletable": true,
    "editable": true
   },
   "outputs": [
    {
     "data": {
      "text/plain": [
       "0.27999999999999992"
      ]
     },
     "execution_count": 68,
     "metadata": {},
     "output_type": "execute_result"
    }
   ],
   "source": [
    "ks_x"
   ]
  },
  {
   "cell_type": "markdown",
   "metadata": {
    "deletable": true,
    "editable": true
   },
   "source": [
    "We can see that the numbers generated from uniform distribution don't follow the Benford's Law, \n",
    "the reason is that the number generated from real world is not uniform distributed."
   ]
  },
  {
   "cell_type": "code",
   "execution_count": 69,
   "metadata": {
    "collapsed": false,
    "deletable": true,
    "editable": true
   },
   "outputs": [
    {
     "data": {
      "text/plain": [
       "0.1150000000000001"
      ]
     },
     "execution_count": 69,
     "metadata": {},
     "output_type": "execute_result"
    }
   ],
   "source": [
    "ks_y"
   ]
  },
  {
   "cell_type": "markdown",
   "metadata": {
    "deletable": true,
    "editable": true
   },
   "source": [
    "We can see that the numbers generated from normal distribution with mean equals to 1 and std equals to 1 don't follow the Benford's Law, the reason I believe is that the number generated from real world is like normal distribution however the mean is not 1 but 0"
   ]
  },
  {
   "cell_type": "code",
   "execution_count": 70,
   "metadata": {
    "collapsed": false,
    "deletable": true,
    "editable": true
   },
   "outputs": [
    {
     "data": {
      "text/plain": [
       "0.058999999999999997"
      ]
     },
     "execution_count": 70,
     "metadata": {},
     "output_type": "execute_result"
    }
   ],
   "source": [
    "ks_z"
   ]
  },
  {
   "cell_type": "markdown",
   "metadata": {
    "deletable": true,
    "editable": true
   },
   "source": [
    "The numbers distribution generated from normal distribution with mean equals to 0 and std equals to 1 does not pass the\n",
    "benchmark test, however, it is already very near the benchmark."
   ]
  },
  {
   "cell_type": "code",
   "execution_count": 71,
   "metadata": {
    "collapsed": false,
    "deletable": true,
    "editable": true
   },
   "outputs": [
    {
     "data": {
      "text/plain": [
       "0.017000000000000015"
      ]
     },
     "execution_count": 71,
     "metadata": {},
     "output_type": "execute_result"
    }
   ],
   "source": [
    "ks_xyz"
   ]
  },
  {
   "cell_type": "markdown",
   "metadata": {
    "deletable": true,
    "editable": true
   },
   "source": [
    "For the x*y*z, it follows the Benford's Law. The reason is it is randomly generated."
   ]
  },
  {
   "cell_type": "markdown",
   "metadata": {
    "deletable": true,
    "editable": true
   },
   "source": [
    "# Part 2 Benford’s Law: Real use"
   ]
  },
  {
   "cell_type": "markdown",
   "metadata": {
    "deletable": true,
    "editable": true
   },
   "source": [
    "The second part is test the Benford's Law in a real case. Data is from financial statement of a company, the data dictionary is shown below."
   ]
  },
  {
   "cell_type": "code",
   "execution_count": 72,
   "metadata": {
    "collapsed": false,
    "deletable": true,
    "editable": true
   },
   "outputs": [
    {
     "name": "stdout",
     "output_type": "stream",
     "text": [
      "Field    Description\n",
      "-------  ------------------------\n",
      "atq      Total asset\n",
      "revtq    Total revenue\n",
      "niq      Net income\n",
      "oancfy   net operating cash flows\n"
     ]
    }
   ],
   "source": [
    "hide_me\n",
    "from tabulate import tabulate\n",
    "print tabulate([['atq', 'Total asset'], ['revtq', 'Total revenue'],['niq', 'Net income'],['oancfy', 'net operating cash flows']], headers=['Field', 'Description'])"
   ]
  },
  {
   "cell_type": "code",
   "execution_count": 73,
   "metadata": {
    "collapsed": true,
    "deletable": true,
    "editable": true
   },
   "outputs": [],
   "source": [
    "df_data=pd.read_csv('/Users/zeyuanli/Summer/Accounting/HW_03_data.csv')"
   ]
  },
  {
   "cell_type": "code",
   "execution_count": 74,
   "metadata": {
    "collapsed": true,
    "deletable": true,
    "editable": true
   },
   "outputs": [],
   "source": [
    "df_data=df_data[['atq','revtq','niq','oancfy']]"
   ]
  },
  {
   "cell_type": "code",
   "execution_count": 75,
   "metadata": {
    "collapsed": false,
    "deletable": true,
    "editable": true
   },
   "outputs": [
    {
     "data": {
      "text/html": [
       "<div>\n",
       "<table border=\"1\" class=\"dataframe\">\n",
       "  <thead>\n",
       "    <tr style=\"text-align: right;\">\n",
       "      <th></th>\n",
       "      <th>atq</th>\n",
       "      <th>revtq</th>\n",
       "      <th>niq</th>\n",
       "      <th>oancfy</th>\n",
       "    </tr>\n",
       "  </thead>\n",
       "  <tbody>\n",
       "    <tr>\n",
       "      <th>0</th>\n",
       "      <td>411.362</td>\n",
       "      <td>109.593</td>\n",
       "      <td>3.226</td>\n",
       "      <td>7.026</td>\n",
       "    </tr>\n",
       "    <tr>\n",
       "      <th>1</th>\n",
       "      <td>421.450</td>\n",
       "      <td>121.261</td>\n",
       "      <td>3.691</td>\n",
       "      <td>4.452</td>\n",
       "    </tr>\n",
       "    <tr>\n",
       "      <th>2</th>\n",
       "      <td>429.271</td>\n",
       "      <td>136.065</td>\n",
       "      <td>4.089</td>\n",
       "      <td>13.745</td>\n",
       "    </tr>\n",
       "    <tr>\n",
       "      <th>3</th>\n",
       "      <td>437.846</td>\n",
       "      <td>138.071</td>\n",
       "      <td>5.006</td>\n",
       "      <td>24.760</td>\n",
       "    </tr>\n",
       "    <tr>\n",
       "      <th>4</th>\n",
       "      <td>449.645</td>\n",
       "      <td>136.037</td>\n",
       "      <td>4.848</td>\n",
       "      <td>10.242</td>\n",
       "    </tr>\n",
       "    <tr>\n",
       "      <th>5</th>\n",
       "      <td>468.550</td>\n",
       "      <td>135.675</td>\n",
       "      <td>5.144</td>\n",
       "      <td>11.113</td>\n",
       "    </tr>\n",
       "    <tr>\n",
       "      <th>6</th>\n",
       "      <td>523.852</td>\n",
       "      <td>154.135</td>\n",
       "      <td>5.940</td>\n",
       "      <td>3.982</td>\n",
       "    </tr>\n",
       "    <tr>\n",
       "      <th>7</th>\n",
       "      <td>529.584</td>\n",
       "      <td>163.481</td>\n",
       "      <td>7.093</td>\n",
       "      <td>9.531</td>\n",
       "    </tr>\n",
       "    <tr>\n",
       "      <th>8</th>\n",
       "      <td>542.819</td>\n",
       "      <td>170.906</td>\n",
       "      <td>7.310</td>\n",
       "      <td>1.489</td>\n",
       "    </tr>\n",
       "    <tr>\n",
       "      <th>9</th>\n",
       "      <td>587.136</td>\n",
       "      <td>180.156</td>\n",
       "      <td>8.411</td>\n",
       "      <td>-17.902</td>\n",
       "    </tr>\n",
       "  </tbody>\n",
       "</table>\n",
       "</div>"
      ],
      "text/plain": [
       "       atq    revtq    niq  oancfy\n",
       "0  411.362  109.593  3.226   7.026\n",
       "1  421.450  121.261  3.691   4.452\n",
       "2  429.271  136.065  4.089  13.745\n",
       "3  437.846  138.071  5.006  24.760\n",
       "4  449.645  136.037  4.848  10.242\n",
       "5  468.550  135.675  5.144  11.113\n",
       "6  523.852  154.135  5.940   3.982\n",
       "7  529.584  163.481  7.093   9.531\n",
       "8  542.819  170.906  7.310   1.489\n",
       "9  587.136  180.156  8.411 -17.902"
      ]
     },
     "execution_count": 75,
     "metadata": {},
     "output_type": "execute_result"
    }
   ],
   "source": [
    "df_data.head(10)"
   ]
  },
  {
   "cell_type": "code",
   "execution_count": 76,
   "metadata": {
    "collapsed": false,
    "deletable": true,
    "editable": true
   },
   "outputs": [
    {
     "name": "stdout",
     "output_type": "stream",
     "text": [
      "statistics of total assets is 91.7237141628\n",
      "statistics of total revenue is 79.9212924459\n",
      "statistics of net income is 22.5422915693\n",
      "statistics of net operating cash flows is 13.1624081965\n"
     ]
    }
   ],
   "source": [
    "def chisquare_test(column_name):\n",
    "    expected=list()\n",
    "    total=abs(df_data[column_name]*1000)\n",
    "    total=total.astype(str)\n",
    "    total=total[total!='nan']\n",
    "    total=total.str[0]\n",
    "    total=total.astype(int)\n",
    "    total=total[total!=0]\n",
    "    total_first_digit=total.value_counts()\n",
    "    for i in range(9):\n",
    "        expected.append(total_first_digit.sum()*Benchmark[i])\n",
    "    result=chisquare(f_obs=total_first_digit,f_exp=expected,axis=0)\n",
    "    return result.statistic\n",
    "\n",
    "print 'statistics of total assets is {:}'.format(chisquare_test('atq'))\n",
    "print 'statistics of total revenue is {:}'.format(chisquare_test('revtq'))\n",
    "print 'statistics of net income is {:}'.format(chisquare_test('niq'))\n",
    "print 'statistics of net operating cash flows is {:}'.format(chisquare_test('oancfy'))"
   ]
  },
  {
   "cell_type": "markdown",
   "metadata": {
    "deletable": true,
    "editable": true
   },
   "source": [
    "Conclusion: The CEO of the companies more like to manipulate total assets and total revenue than net income and \n",
    "net operating cash flows. The reason probably is that when evaluate the performance of the CEOs, \n",
    "total assets and total revenue are more important than net income and net operating cash flows."
   ]
  },
  {
   "cell_type": "code",
   "execution_count": 77,
   "metadata": {
    "collapsed": false,
    "deletable": true,
    "editable": true
   },
   "outputs": [
    {
     "data": {
      "text/html": [
       "<script>\n",
       "code_show=true; \n",
       "function code_toggle() {\n",
       "  if (code_show) {\n",
       "    $('div.input').each(function(id) {\n",
       "      el = $(this).find('.cm-variable:first');\n",
       "      if (id == 0 || el.text() == 'hide_me') {\n",
       "        $(this).hide();\n",
       "      }\n",
       "    });\n",
       "    $('div.output_prompt').css('opacity', 0);\n",
       "  } else {\n",
       "    $('div.input').each(function(id) {\n",
       "      $(this).show();\n",
       "    });\n",
       "    $('div.output_prompt').css('opacity', 1);\n",
       "  }\n",
       "  code_show = !code_show\n",
       "} \n",
       "$( document ).ready(code_toggle);\n",
       "</script>\n",
       "<form action=\"javascript:code_toggle()\"><input style=\"opacity:0\" type=\"submit\" value=\"Click here to toggle on/off the raw code.\"></form>"
      ],
      "text/plain": [
       "<IPython.core.display.HTML object>"
      ]
     },
     "execution_count": 77,
     "metadata": {},
     "output_type": "execute_result"
    }
   ],
   "source": [
    "from IPython.display import HTML\n",
    "\n",
    "hide_me = ''\n",
    "HTML('''<script>\n",
    "code_show=true; \n",
    "function code_toggle() {\n",
    "  if (code_show) {\n",
    "    $('div.input').each(function(id) {\n",
    "      el = $(this).find('.cm-variable:first');\n",
    "      if (id == 0 || el.text() == 'hide_me') {\n",
    "        $(this).hide();\n",
    "      }\n",
    "    });\n",
    "    $('div.output_prompt').css('opacity', 0);\n",
    "  } else {\n",
    "    $('div.input').each(function(id) {\n",
    "      $(this).show();\n",
    "    });\n",
    "    $('div.output_prompt').css('opacity', 1);\n",
    "  }\n",
    "  code_show = !code_show\n",
    "} \n",
    "$( document ).ready(code_toggle);\n",
    "</script>\n",
    "<form action=\"javascript:code_toggle()\"><input style=\"opacity:0\" type=\"submit\" value=\"Click here to toggle on/off the raw code.\"></form>''')"
   ]
  }
 ],
 "metadata": {
  "kernelspec": {
   "display_name": "Python 2",
   "language": "python",
   "name": "python2"
  },
  "language_info": {
   "codemirror_mode": {
    "name": "ipython",
    "version": 2
   },
   "file_extension": ".py",
   "mimetype": "text/x-python",
   "name": "python",
   "nbconvert_exporter": "python",
   "pygments_lexer": "ipython2",
   "version": "2.7.13"
  }
 },
 "nbformat": 4,
 "nbformat_minor": 2
}
